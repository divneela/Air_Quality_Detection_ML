{
 "cells": [
  {
   "cell_type": "code",
   "execution_count": 4,
   "metadata": {},
   "outputs": [],
   "source": [
    "import joblib\n",
    "import pandas as pd\n",
    "from sklearn.metrics import accuracy_score, precision_score, roc_curve,recall_score,auc, f1_score, classification_report, cohen_kappa_score, confusion_matrix, roc_auc_score\n",
    "\n",
    "\n",
    "x_test = pd.read_csv('data_split/X_test.csv').drop(columns=['Encoded_City'])\n",
    "y_test = pd.read_csv('data_split/y_test.csv').iloc[:, 0]"
   ]
  },
  {
   "attachments": {},
   "cell_type": "markdown",
   "metadata": {},
   "source": [
    "MODEL: DECISION TREE"
   ]
  },
  {
   "cell_type": "code",
   "execution_count": 9,
   "metadata": {},
   "outputs": [
    {
     "name": "stdout",
     "output_type": "stream",
     "text": [
      "Test Accuracy with Loaded Model: 0.7597585513078471\n"
     ]
    }
   ],
   "source": [
    "# Load the saved model and test accuracy on the test set\n",
    "dt_model = joblib.load('saved_models/decision_tree_model.joblib')\n",
    "y_test_pred_dt= dt_model.predict(x_test)\n",
    "test_accuracy_dt = accuracy_score(y_test, y_test_pred_dt)\n",
    "\n",
    "print(f'Test Accuracy with Loaded Model: {test_accuracy_dt}')"
   ]
  },
  {
   "attachments": {},
   "cell_type": "markdown",
   "metadata": {},
   "source": [
    "MODEL : XGBoost "
   ]
  },
  {
   "cell_type": "code",
   "execution_count": 10,
   "metadata": {},
   "outputs": [
    {
     "name": "stdout",
     "output_type": "stream",
     "text": [
      "Test Accuracy with Loaded Model: 0.806841046277666\n"
     ]
    }
   ],
   "source": [
    "# Load the saved model and test accuracy on the test set\n",
    "xgb_model = joblib.load('saved_models/xgb_model.joblib')\n",
    "y_test_pred_xgb= xgb_model.predict(x_test)\n",
    "test_accuracy_xgb = accuracy_score(y_test, y_test_pred_xgb)\n",
    "\n",
    "print(f'Test Accuracy with Loaded Model: {test_accuracy_xgb}')"
   ]
  }
 ],
 "metadata": {
  "kernelspec": {
   "display_name": "base",
   "language": "python",
   "name": "python3"
  },
  "language_info": {
   "codemirror_mode": {
    "name": "ipython",
    "version": 3
   },
   "file_extension": ".py",
   "mimetype": "text/x-python",
   "name": "python",
   "nbconvert_exporter": "python",
   "pygments_lexer": "ipython3",
   "version": "3.9.13"
  },
  "orig_nbformat": 4,
  "vscode": {
   "interpreter": {
    "hash": "8ebdb513b51577942d65d1667b89529397c5626abdefc003696bd27edcccf21e"
   }
  }
 },
 "nbformat": 4,
 "nbformat_minor": 2
}
