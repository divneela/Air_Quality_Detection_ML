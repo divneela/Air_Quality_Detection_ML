{
 "cells": [
  {
   "cell_type": "markdown",
   "id": "8784a418-539f-4004-84c6-3c77e2173a7a",
   "metadata": {},
   "source": [
    "<center>\n",
    "    <h1> Predicting Air Quality for Health Risk Assessment: A Machine Learning Approach </h1>\n",
    "    <h2> Oversampling using SMOTE and Splitting Data </h2>\n",
    "    <h3> Divya Neelamegam, Padhma Cebolu Srinivasan, Poojitha Venkat Ram, Shruti Badrinarayanan, Sourabh Suresh Kumar </h3>\n",
    "</center>"
   ]
  },
  {
   "cell_type": "markdown",
   "id": "fa463738-3917-4b41-adac-57dffcb39c6f",
   "metadata": {},
   "source": [
    "### Load Dataset"
   ]
  },
  {
   "cell_type": "code",
   "execution_count": 1,
   "id": "81f612b4-bae7-4a59-8d82-7bba70647520",
   "metadata": {
    "tags": []
   },
   "outputs": [
    {
     "data": {
      "text/html": [
       "<div>\n",
       "<style scoped>\n",
       "    .dataframe tbody tr th:only-of-type {\n",
       "        vertical-align: middle;\n",
       "    }\n",
       "\n",
       "    .dataframe tbody tr th {\n",
       "        vertical-align: top;\n",
       "    }\n",
       "\n",
       "    .dataframe thead th {\n",
       "        text-align: right;\n",
       "    }\n",
       "</style>\n",
       "<table border=\"1\" class=\"dataframe\">\n",
       "  <thead>\n",
       "    <tr style=\"text-align: right;\">\n",
       "      <th></th>\n",
       "      <th>City</th>\n",
       "      <th>Date</th>\n",
       "      <th>PM2.5</th>\n",
       "      <th>PM10</th>\n",
       "      <th>NO</th>\n",
       "      <th>NO2</th>\n",
       "      <th>NOx</th>\n",
       "      <th>NH3</th>\n",
       "      <th>CO</th>\n",
       "      <th>SO2</th>\n",
       "      <th>O3</th>\n",
       "      <th>Benzene</th>\n",
       "      <th>Toluene</th>\n",
       "      <th>Xylene</th>\n",
       "      <th>AQI</th>\n",
       "      <th>AQI_Bucket</th>\n",
       "    </tr>\n",
       "  </thead>\n",
       "  <tbody>\n",
       "    <tr>\n",
       "      <th>0</th>\n",
       "      <td>Ahmedabad</td>\n",
       "      <td>2015-01-29</td>\n",
       "      <td>83.13</td>\n",
       "      <td>118.127103</td>\n",
       "      <td>6.93</td>\n",
       "      <td>28.71</td>\n",
       "      <td>33.72</td>\n",
       "      <td>23.483476</td>\n",
       "      <td>6.93</td>\n",
       "      <td>49.52</td>\n",
       "      <td>59.76</td>\n",
       "      <td>0.02</td>\n",
       "      <td>0.00</td>\n",
       "      <td>3.14</td>\n",
       "      <td>209.0</td>\n",
       "      <td>Poor</td>\n",
       "    </tr>\n",
       "    <tr>\n",
       "      <th>1</th>\n",
       "      <td>Ahmedabad</td>\n",
       "      <td>2015-01-30</td>\n",
       "      <td>79.84</td>\n",
       "      <td>118.127103</td>\n",
       "      <td>13.85</td>\n",
       "      <td>28.68</td>\n",
       "      <td>41.08</td>\n",
       "      <td>23.483476</td>\n",
       "      <td>13.85</td>\n",
       "      <td>48.49</td>\n",
       "      <td>97.07</td>\n",
       "      <td>0.04</td>\n",
       "      <td>0.00</td>\n",
       "      <td>4.81</td>\n",
       "      <td>328.0</td>\n",
       "      <td>Very Poor</td>\n",
       "    </tr>\n",
       "    <tr>\n",
       "      <th>2</th>\n",
       "      <td>Ahmedabad</td>\n",
       "      <td>2015-01-31</td>\n",
       "      <td>94.52</td>\n",
       "      <td>118.127103</td>\n",
       "      <td>24.39</td>\n",
       "      <td>32.66</td>\n",
       "      <td>52.61</td>\n",
       "      <td>23.483476</td>\n",
       "      <td>24.39</td>\n",
       "      <td>67.39</td>\n",
       "      <td>111.33</td>\n",
       "      <td>0.24</td>\n",
       "      <td>0.01</td>\n",
       "      <td>7.67</td>\n",
       "      <td>514.0</td>\n",
       "      <td>Severe</td>\n",
       "    </tr>\n",
       "    <tr>\n",
       "      <th>3</th>\n",
       "      <td>Ahmedabad</td>\n",
       "      <td>2015-02-01</td>\n",
       "      <td>135.99</td>\n",
       "      <td>118.127103</td>\n",
       "      <td>43.48</td>\n",
       "      <td>42.08</td>\n",
       "      <td>84.57</td>\n",
       "      <td>23.483476</td>\n",
       "      <td>43.48</td>\n",
       "      <td>75.23</td>\n",
       "      <td>102.70</td>\n",
       "      <td>0.40</td>\n",
       "      <td>0.04</td>\n",
       "      <td>25.87</td>\n",
       "      <td>782.0</td>\n",
       "      <td>Severe</td>\n",
       "    </tr>\n",
       "    <tr>\n",
       "      <th>4</th>\n",
       "      <td>Ahmedabad</td>\n",
       "      <td>2015-02-02</td>\n",
       "      <td>178.33</td>\n",
       "      <td>118.127103</td>\n",
       "      <td>54.56</td>\n",
       "      <td>35.31</td>\n",
       "      <td>72.80</td>\n",
       "      <td>23.483476</td>\n",
       "      <td>54.56</td>\n",
       "      <td>55.04</td>\n",
       "      <td>107.38</td>\n",
       "      <td>0.46</td>\n",
       "      <td>0.06</td>\n",
       "      <td>35.61</td>\n",
       "      <td>914.0</td>\n",
       "      <td>Severe</td>\n",
       "    </tr>\n",
       "  </tbody>\n",
       "</table>\n",
       "</div>"
      ],
      "text/plain": [
       "        City        Date   PM2.5        PM10     NO    NO2    NOx        NH3  \\\n",
       "0  Ahmedabad  2015-01-29   83.13  118.127103   6.93  28.71  33.72  23.483476   \n",
       "1  Ahmedabad  2015-01-30   79.84  118.127103  13.85  28.68  41.08  23.483476   \n",
       "2  Ahmedabad  2015-01-31   94.52  118.127103  24.39  32.66  52.61  23.483476   \n",
       "3  Ahmedabad  2015-02-01  135.99  118.127103  43.48  42.08  84.57  23.483476   \n",
       "4  Ahmedabad  2015-02-02  178.33  118.127103  54.56  35.31  72.80  23.483476   \n",
       "\n",
       "      CO    SO2      O3  Benzene  Toluene  Xylene    AQI AQI_Bucket  \n",
       "0   6.93  49.52   59.76     0.02     0.00    3.14  209.0       Poor  \n",
       "1  13.85  48.49   97.07     0.04     0.00    4.81  328.0  Very Poor  \n",
       "2  24.39  67.39  111.33     0.24     0.01    7.67  514.0     Severe  \n",
       "3  43.48  75.23  102.70     0.40     0.04   25.87  782.0     Severe  \n",
       "4  54.56  55.04  107.38     0.46     0.06   35.61  914.0     Severe  "
      ]
     },
     "execution_count": 1,
     "metadata": {},
     "output_type": "execute_result"
    }
   ],
   "source": [
    "import pandas as pd\n",
    "\n",
    "# Load Dataset\n",
    "data = pd.read_csv(\"processed_data.csv\")\n",
    "data.head()"
   ]
  },
  {
   "cell_type": "markdown",
   "id": "8382dd16-5e9d-4174-a7c0-e637ab29f8d7",
   "metadata": {},
   "source": [
    "### Encode Target Variable - AQI_Bucket"
   ]
  },
  {
   "cell_type": "code",
   "execution_count": 2,
   "id": "790e1af1-006d-4be1-b642-97fab21ae541",
   "metadata": {
    "tags": []
   },
   "outputs": [],
   "source": [
    "from sklearn.preprocessing import OrdinalEncoder\n",
    "\n",
    "# Define order of categories for AQI_Bucket\n",
    "categories_order = [['Good', 'Satisfactory', 'Moderate', 'Poor', 'Very Poor', 'Severe']]\n",
    "\n",
    "# Create encoder object\n",
    "ordinal_encoder = OrdinalEncoder(categories=categories_order)\n",
    "\n",
    "# Reshape target variable to fit the encoder's expected format\n",
    "y_reshaped = data['AQI_Bucket'].values.reshape(-1, 1)\n",
    "\n",
    "# Apply encoder to the target variable\n",
    "data['Encoded_AQI_Bucket'] = ordinal_encoder.fit_transform(y_reshaped)\n",
    "\n",
    "# Use 'Encoded_AQI_Bucket' as target variable\n",
    "y = data['Encoded_AQI_Bucket']\n",
    "\n",
    "# Drop AQI_Bucket\n",
    "data = data.drop(columns=['AQI_Bucket'])"
   ]
  },
  {
   "cell_type": "markdown",
   "id": "2489a141-9514-48a7-af7f-a004b346739f",
   "metadata": {},
   "source": [
    "### Encode Variable - City"
   ]
  },
  {
   "cell_type": "code",
   "execution_count": 3,
   "id": "7f6e98b0-0fae-462c-a7c2-5400e2250dbf",
   "metadata": {},
   "outputs": [],
   "source": [
    "from sklearn.preprocessing import OrdinalEncoder\n",
    "\n",
    "# Define order of categories for City\n",
    "categories_order = [['Ahmedabad', 'Aizawl', 'Amaravati', 'Amritsar', 'Bengaluru',\n",
    "       'Bhopal', 'Brajrajnagar', 'Chandigarh', 'Chennai', 'Coimbatore',\n",
    "       'Delhi', 'Ernakulam', 'Gurugram', 'Guwahati', 'Hyderabad',\n",
    "       'Jaipur', 'Jorapokhar', 'Kochi', 'Kolkata', 'Lucknow', 'Mumbai',\n",
    "       'Patna', 'Shillong', 'Talcher', 'Thiruvananthapuram',\n",
    "       'Visakhapatnam']]\n",
    "\n",
    "# Create encoder object\n",
    "ordinal_encoder = OrdinalEncoder(categories=categories_order)\n",
    "\n",
    "# Reshape City variable to fit the encoder's expected format\n",
    "y_reshaped = data['City'].values.reshape(-1, 1)\n",
    "\n",
    "# Apply encoder to the City variable\n",
    "data['Encoded_City'] = ordinal_encoder.fit_transform(y_reshaped)\n",
    "\n",
    "# Use 'Encoded_City' as target variable\n",
    "y = data['Encoded_City']\n",
    "\n",
    "# Drop City\n",
    "data = data.drop(columns=['City'])"
   ]
  },
  {
   "cell_type": "code",
   "execution_count": 4,
   "id": "dd1f3d2c-0a5b-4be7-8e60-897d3b0eaa21",
   "metadata": {},
   "outputs": [],
   "source": [
    "# Convert the 'Date' column to a datetime format\n",
    "data['Date'] = pd.to_datetime(data['Date'])\n",
    "\n",
    "data['year'] = data['Date'].dt.year\n",
    "data['month'] = data['Date'].dt.month\n",
    "data['day'] = data['Date'].dt.day"
   ]
  },
  {
   "cell_type": "code",
   "execution_count": 5,
   "id": "4c04043e-e88a-4f56-9c3f-d64fa60de8ad",
   "metadata": {},
   "outputs": [],
   "source": [
    "data = data.drop(columns=['Date','AQI'])"
   ]
  },
  {
   "cell_type": "markdown",
   "id": "4b59685c-7e3f-4248-9124-fd2e521d7f57",
   "metadata": {},
   "source": [
    "### Oversampling"
   ]
  },
  {
   "cell_type": "code",
   "execution_count": 6,
   "id": "134f966a-92cc-4081-8214-dadeb15457fa",
   "metadata": {
    "tags": []
   },
   "outputs": [],
   "source": [
    "from imblearn.over_sampling import SMOTE\n",
    "from sklearn.model_selection import train_test_split\n",
    "import pandas as pd\n",
    "\n",
    "X = data.drop(columns=['Encoded_AQI_Bucket'])\n",
    "y = data['Encoded_AQI_Bucket']\n",
    "\n",
    "# Splitting the data (80% train, 20% test)\n",
    "X_train, X_temp, y_train, y_temp = train_test_split(X, y, test_size=0.2, random_state=42, stratify=y)\n",
    "\n",
    "# Applying SMOTE to the entire training set\n",
    "smote = SMOTE(sampling_strategy='auto', random_state=42)\n",
    "X_resampled, y_resampled = smote.fit_resample(X_train, y_train)"
   ]
  },
  {
   "cell_type": "markdown",
   "id": "cdf518fd-729e-4533-a2aa-ee9b08ec9653",
   "metadata": {},
   "source": [
    "### Split Remaining Data"
   ]
  },
  {
   "cell_type": "code",
   "execution_count": 7,
   "id": "d1f3a34b-989d-4aa3-b718-a491bb56443a",
   "metadata": {
    "tags": []
   },
   "outputs": [],
   "source": [
    "# Splitting the remaining 20% data into validation (10%) and test (10%) sets\n",
    "X_val, X_test, y_val, y_test = train_test_split(X_temp, y_temp, test_size=0.5, random_state=42, stratify=y_temp)"
   ]
  },
  {
   "cell_type": "markdown",
   "id": "3f96b806-cefd-4b55-93b6-63ba7cc6ffcf",
   "metadata": {},
   "source": [
    "### Save Train, Validation and Test Data to CSVs"
   ]
  },
  {
   "cell_type": "code",
   "execution_count": 8,
   "id": "91631411-74e4-422d-b911-4a27583927e8",
   "metadata": {
    "tags": []
   },
   "outputs": [],
   "source": [
    "# Save the datasets to CSV files\n",
    "X_resampled.to_csv('X_resampled_train.csv', index=False)\n",
    "y_resampled.to_csv('y_resampled_train.csv', index=False)\n",
    "\n",
    "X_val.to_csv('X_val.csv', index=False)\n",
    "y_val.to_csv('y_val.csv', index=False)\n",
    "\n",
    "X_test.to_csv('X_test.csv', index=False)\n",
    "y_test.to_csv('y_test.csv', index=False)"
   ]
  }
 ],
 "metadata": {
  "kernelspec": {
   "display_name": "Python 3 (ipykernel)",
   "language": "python",
   "name": "python3"
  },
  "language_info": {
   "codemirror_mode": {
    "name": "ipython",
    "version": 3
   },
   "file_extension": ".py",
   "mimetype": "text/x-python",
   "name": "python",
   "nbconvert_exporter": "python",
   "pygments_lexer": "ipython3",
   "version": "3.11.5"
  }
 },
 "nbformat": 4,
 "nbformat_minor": 5
}
